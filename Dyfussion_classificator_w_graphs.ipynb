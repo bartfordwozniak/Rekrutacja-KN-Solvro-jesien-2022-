{
 "cells": [
  {
   "cell_type": "code",
   "execution_count": 1,
   "id": "016b2689",
   "metadata": {},
   "outputs": [],
   "source": [
    "import numpy as np\n",
    "from tensorflow import keras\n",
    "import tensorflow as tf\n",
    "#from livelossplot import PlotLossesKeras\n",
    "from matplotlib import pyplot as plt\n",
    "from IPython.display import clear_output\n",
    "\n",
    "%matplotlib inline"
   ]
  },
  {
   "cell_type": "code",
   "execution_count": 2,
   "id": "7dca6ff1",
   "metadata": {},
   "outputs": [],
   "source": [
    "train_data = np.load('data_sets/X_train.npy',\n",
    "                       mmap_mode = None,\n",
    "                       allow_pickle = False,\n",
    "                       fix_imports = True,\n",
    "                       encoding = 'ASCII')"
   ]
  },
  {
   "cell_type": "code",
   "execution_count": 3,
   "id": "d57359fb",
   "metadata": {},
   "outputs": [],
   "source": [
    "train_labels = np.load('data_sets/y_train.npy',\n",
    "                       mmap_mode = None,\n",
    "                       allow_pickle = False,\n",
    "                       fix_imports = True,\n",
    "                       encoding = 'ASCII')\n",
    "                        #encoding = 'OneHot')"
   ]
  },
  {
   "cell_type": "code",
   "execution_count": 4,
   "id": "f14150df",
   "metadata": {},
   "outputs": [],
   "source": [
    "test_data = np.load('data_sets/X_test.npy',\n",
    "                       mmap_mode = None,\n",
    "                       allow_pickle = False,\n",
    "                       fix_imports = True,\n",
    "                       encoding = 'ASCII')"
   ]
  },
  {
   "cell_type": "code",
   "execution_count": 5,
   "id": "6a251d5d",
   "metadata": {},
   "outputs": [],
   "source": [
    "val_data = np.load('data_sets/X_val.npy',\n",
    "                       mmap_mode = None,\n",
    "                       allow_pickle = False,\n",
    "                       fix_imports = True,\n",
    "                       encoding = 'ASCII')"
   ]
  },
  {
   "cell_type": "code",
   "execution_count": 6,
   "id": "a3840064",
   "metadata": {},
   "outputs": [],
   "source": [
    "val_labels = np.load('data_sets/y_val.npy',\n",
    "                       mmap_mode = None,\n",
    "                       allow_pickle = False,\n",
    "                       fix_imports = True,\n",
    "                       encoding = 'ASCII')\n",
    "                        #encoding = 'OneHot')"
   ]
  },
  {
   "cell_type": "code",
   "execution_count": 7,
   "id": "1ec12078",
   "metadata": {},
   "outputs": [
    {
     "name": "stderr",
     "output_type": "stream",
     "text": [
      "2022-10-30 12:58:43.379221: E tensorflow/stream_executor/cuda/cuda_driver.cc:271] failed call to cuInit: CUDA_ERROR_NO_DEVICE: no CUDA-capable device is detected\n",
      "2022-10-30 12:58:43.379259: I tensorflow/stream_executor/cuda/cuda_diagnostics.cc:156] kernel driver does not appear to be running on this host (wolfie-HP): /proc/driver/nvidia/version does not exist\n",
      "2022-10-30 12:58:43.379822: I tensorflow/core/platform/cpu_feature_guard.cc:193] This TensorFlow binary is optimized with oneAPI Deep Neural Network Library (oneDNN) to use the following CPU instructions in performance-critical operations:  AVX2 FMA\n",
      "To enable them in other operations, rebuild TensorFlow with the appropriate compiler flags.\n"
     ]
    }
   ],
   "source": [
    "model = keras.Sequential ([ keras.layers.Flatten(input_shape = (300, 2)),  #(None, 300, 2)\n",
    "                            keras.layers.Dense(128, activation = \"relu\"),\n",
    "                            keras.layers.Dense(256, activation = \"selu\"),\n",
    "                            keras.layers.Dense(256, activation = \"sigmoid\"),\n",
    "                            keras.layers.Dense(128, activation = \"relu\"),\n",
    "                            keras.layers.Dense(5, activation = \"softmax\") ])"
   ]
  },
  {
   "cell_type": "code",
   "execution_count": 8,
   "id": "21e6fb66",
   "metadata": {},
   "outputs": [],
   "source": [
    "#optimalizer = keras.optimizers.SGD(learning_rate=0.0015)\n",
    "optimalizer = keras.optimizers.SGD(learning_rate=0.1)"
   ]
  },
  {
   "cell_type": "code",
   "execution_count": 9,
   "id": "a2e51079",
   "metadata": {},
   "outputs": [],
   "source": [
    "model.compile (loss = 'categorical_crossentropy', optimizer = optimalizer, metrics=['Accuracy'])"
   ]
  },
  {
   "cell_type": "code",
   "execution_count": 10,
   "id": "8fb6fcfb",
   "metadata": {},
   "outputs": [
    {
     "ename": "NameError",
     "evalue": "name 'plot_losses' is not defined",
     "output_type": "error",
     "traceback": [
      "\u001b[0;31m---------------------------------------------------------------------------\u001b[0m",
      "\u001b[0;31mNameError\u001b[0m                                 Traceback (most recent call last)",
      "\u001b[0;32m/tmp/ipykernel_110257/3743964513.py\u001b[0m in \u001b[0;36m<module>\u001b[0;34m\u001b[0m\n\u001b[1;32m      3\u001b[0m            \u001b[0mepochs\u001b[0m\u001b[0;34m=\u001b[0m\u001b[0;36m32\u001b[0m\u001b[0;34m,\u001b[0m\u001b[0;34m\u001b[0m\u001b[0;34m\u001b[0m\u001b[0m\n\u001b[1;32m      4\u001b[0m            \u001b[0mvalidation_data\u001b[0m\u001b[0;34m=\u001b[0m\u001b[0;34m(\u001b[0m\u001b[0mval_data\u001b[0m\u001b[0;34m,\u001b[0m \u001b[0mval_labels\u001b[0m\u001b[0;34m)\u001b[0m\u001b[0;34m,\u001b[0m\u001b[0;34m\u001b[0m\u001b[0;34m\u001b[0m\u001b[0m\n\u001b[0;32m----> 5\u001b[0;31m            \u001b[0mcallbacks\u001b[0m\u001b[0;34m=\u001b[0m\u001b[0;34m[\u001b[0m\u001b[0mplot_losses\u001b[0m\u001b[0;34m]\u001b[0m\u001b[0;34m,\u001b[0m\u001b[0;34m\u001b[0m\u001b[0;34m\u001b[0m\u001b[0m\n\u001b[0m\u001b[1;32m      6\u001b[0m            verbose=0)\n\u001b[1;32m      7\u001b[0m \u001b[0;34m\u001b[0m\u001b[0m\n",
      "\u001b[0;31mNameError\u001b[0m: name 'plot_losses' is not defined"
     ]
    }
   ],
   "source": [
    "model.fit (train_data, train_labels, \n",
    "           batch_size=16, \n",
    "           epochs=32,\n",
    "           validation_data=(val_data, val_labels), \n",
    "           callbacks=[plot_losses],\n",
    "           verbose=0)\n",
    "           "
   ]
  },
  {
   "cell_type": "code",
   "execution_count": null,
   "id": "dfbcc718",
   "metadata": {},
   "outputs": [],
   "source": [
    "class PlotLearning(Callback):\n",
    "    def on_train_begin(self, logs={}):\n",
    "        self.i = 0\n",
    "        self.x = []\n",
    "        self.losses = []\n",
    "        self.val_losses = []\n",
    "        self.acc = []\n",
    "        self.val_acc = []\n",
    "        self.fig = plt.figure()\n",
    "        \n",
    "        self.logs = []\n",
    "        \n",
    "    def on_epoch_end(self, epoch, logs={}):\n",
    "        \n",
    "        self.logs.append(logs)\n",
    "        self.x.append(self.i)\n",
    "        self.losses.append(logs.get('loss'))\n",
    "        self.val_losses.append(logs.get('val_loss'))\n",
    "        self.acc.append(logs.get('acc'))\n",
    "        self.val_acc.append(logs.get('val_acc'))\n",
    "        self.i += 1\n",
    "        f, (ax1, ax2) = plt.subplots(1, 2, sharex=True)\n",
    "        \n",
    "        clear_output(wait=True)\n",
    "        \n",
    "        ax1.set_yscale('log')\n",
    "        ax1.plot(self.x, self.losses, label=\"loss\")\n",
    "        ax1.plot(self.x, self.val_losses, label=\"val_loss\")\n",
    "        ax1.legend()\n",
    "        \n",
    "        ax2.plot(self.x, self.acc, label=\"accuracy\")\n",
    "        ax2.plot(self.x, self.val_acc, label=\"validation accuracy\")\n",
    "        ax2.legend()\n",
    "        \n",
    "        plt.show();"
   ]
  },
  {
   "cell_type": "code",
   "execution_count": null,
   "id": "579fdded",
   "metadata": {},
   "outputs": [],
   "source": [
    "plot = PlotLearning()"
   ]
  },
  {
   "cell_type": "code",
   "execution_count": null,
   "id": "5c46a4ef",
   "metadata": {},
   "outputs": [],
   "source": [
    "print(model.metrics)"
   ]
  }
 ],
 "metadata": {
  "kernelspec": {
   "display_name": "Python 3 (ipykernel)",
   "language": "python",
   "name": "python3"
  },
  "language_info": {
   "codemirror_mode": {
    "name": "ipython",
    "version": 3
   },
   "file_extension": ".py",
   "mimetype": "text/x-python",
   "name": "python",
   "nbconvert_exporter": "python",
   "pygments_lexer": "ipython3",
   "version": "3.10.6"
  }
 },
 "nbformat": 4,
 "nbformat_minor": 5
}
